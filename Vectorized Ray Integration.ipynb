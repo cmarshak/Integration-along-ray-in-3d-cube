{
 "cells": [
  {
   "cell_type": "markdown",
   "metadata": {},
   "source": [
    "A demonstraction of vectorized \"integration along a ray\". Highly simplified to support adapation for the purposes of computing atmospheric phase delay. Missing some important steps partly because I am not clear on all parts of the delay model.\n",
    "\n",
    "Vectorizing has some obvious drawbacks:\n",
    "\n",
    "1. less intuitive interface (passing large vector arrays rather than points)\n",
    "2. Larger memory footprint (store all ray vectors in memory)\n",
    "\n",
    "The clear benefit though are:\n",
    "\n",
    "1. use scipy/scipy/numpy directly without having to maintain external cython code\n",
    "2. Straightforward (I think) to use dask"
   ]
  },
  {
   "cell_type": "code",
   "execution_count": 1,
   "metadata": {
    "ExecuteTime": {
     "end_time": "2022-10-18T02:32:52.304518Z",
     "start_time": "2022-10-18T02:32:50.953313Z"
    }
   },
   "outputs": [],
   "source": [
    "import xarray as xr\n",
    "import numpy as np\n",
    "import matplotlib.pyplot as plt\n",
    "\n",
    "from pathlib import Path\n",
    "import numpy as np\n",
    "from tqdm import tqdm"
   ]
  },
  {
   "cell_type": "markdown",
   "metadata": {},
   "source": [
    "# Context\n",
    "\n",
    "We are going to look at ray tracing within the unit cube. We want to integrate at every point in space. The integral should be the length of the vector which intersects the unit cube. Thus we can compute it in two different ways:\n",
    "\n",
    "1. the euclidean formula\n",
    "2. integration in xarray\n",
    "\n",
    "The second method will be much faster given it has analytic formulas namely (find the end point and take its norm). This provides a test to ensure correctness. Both methods (assuming our integration step is small enough) should be close (modulo some numerical approximation errors which is beyond the scope of this notebook)."
   ]
  },
  {
   "cell_type": "markdown",
   "metadata": {},
   "source": [
    "## Parameters\n",
    "\n",
    "Let us consider the unit cube $[0, 1]^3$ in $x \\times y \\times z$. We are going to have the spacing be $N \\times N \\times N_z$. Below are the parameters for this spacing."
   ]
  },
  {
   "cell_type": "code",
   "execution_count": 2,
   "metadata": {
    "ExecuteTime": {
     "end_time": "2022-10-18T02:32:52.310710Z",
     "start_time": "2022-10-18T02:32:52.308030Z"
    }
   },
   "outputs": [],
   "source": [
    "N = 1000\n",
    "N_z = 10"
   ]
  },
  {
   "cell_type": "markdown",
   "metadata": {},
   "source": [
    "Do we want to do basic sanity checks? Answer: no if you are using $N \\geq 50$"
   ]
  },
  {
   "cell_type": "code",
   "execution_count": 3,
   "metadata": {
    "ExecuteTime": {
     "end_time": "2022-10-18T02:32:52.314575Z",
     "start_time": "2022-10-18T02:32:52.312234Z"
    }
   },
   "outputs": [],
   "source": [
    "CHECKS = False"
   ]
  },
  {
   "cell_type": "markdown",
   "metadata": {
    "ExecuteTime": {
     "end_time": "2022-10-17T17:18:53.685991Z",
     "start_time": "2022-10-17T17:18:53.682300Z"
    }
   },
   "source": [
    "We also need:\n",
    "    \n",
    "- how many points per ray\n",
    "- spacing along ray to integrate\n",
    "- constant direcion."
   ]
  },
  {
   "cell_type": "code",
   "execution_count": 4,
   "metadata": {
    "ExecuteTime": {
     "end_time": "2022-10-18T02:32:52.318899Z",
     "start_time": "2022-10-18T02:32:52.316858Z"
    }
   },
   "outputs": [],
   "source": [
    "STEP_SIZE = .1\n",
    "RAY_DIRECTION = [1, 1, 1]  # (d_x , d_y, d_z)"
   ]
  },
  {
   "cell_type": "markdown",
   "metadata": {},
   "source": [
    "Currently, we can get the minimum number of points to go alont the super-diagonal (all other rays will be shorter)."
   ]
  },
  {
   "cell_type": "code",
   "execution_count": 5,
   "metadata": {
    "ExecuteTime": {
     "end_time": "2022-10-18T02:32:52.327919Z",
     "start_time": "2022-10-18T02:32:52.320584Z"
    }
   },
   "outputs": [
    {
     "data": {
      "text/plain": [
       "19"
      ]
     },
     "execution_count": 5,
     "metadata": {},
     "output_type": "execute_result"
    }
   ],
   "source": [
    "N_POINTS = int(np.ceil(STEP_SIZE**-1 * np.sqrt(3))) + 1\n",
    "N_POINTS"
   ]
  },
  {
   "cell_type": "markdown",
   "metadata": {},
   "source": [
    "# Basic checks"
   ]
  },
  {
   "cell_type": "code",
   "execution_count": 6,
   "metadata": {
    "ExecuteTime": {
     "end_time": "2022-10-18T02:32:52.333640Z",
     "start_time": "2022-10-18T02:32:52.329867Z"
    }
   },
   "outputs": [
    {
     "data": {
      "text/plain": [
       "(0.5773502691896258, 0.5773502691896258, 0.5773502691896258)"
      ]
     },
     "execution_count": 6,
     "metadata": {},
     "output_type": "execute_result"
    }
   ],
   "source": [
    "unit_ray = np.array(RAY_DIRECTION) / np.linalg.norm(RAY_DIRECTION)\n",
    "r_x, r_y, r_z = unit_ray \n",
    "r_x, r_y, r_z"
   ]
  },
  {
   "cell_type": "markdown",
   "metadata": {
    "ExecuteTime": {
     "end_time": "2022-10-17T17:43:43.948404Z",
     "start_time": "2022-10-17T17:43:43.944187Z"
    }
   },
   "source": [
    "Check the step size goes beyond the unit cube at its longest point."
   ]
  },
  {
   "cell_type": "code",
   "execution_count": 7,
   "metadata": {
    "ExecuteTime": {
     "end_time": "2022-10-18T02:32:52.338704Z",
     "start_time": "2022-10-18T02:32:52.335043Z"
    }
   },
   "outputs": [
    {
     "data": {
      "text/plain": [
       "True"
      ]
     },
     "execution_count": 7,
     "metadata": {},
     "output_type": "execute_result"
    }
   ],
   "source": [
    "np.all(N_POINTS * STEP_SIZE * unit_ray > np.array([1, 1, 1]))"
   ]
  },
  {
   "cell_type": "markdown",
   "metadata": {},
   "source": [
    "We are going to construct the ray beyond the unit cube if required based on the direction."
   ]
  },
  {
   "cell_type": "markdown",
   "metadata": {},
   "source": [
    "# Dataset Initialization"
   ]
  },
  {
   "cell_type": "markdown",
   "metadata": {},
   "source": [
    "## Coordinates"
   ]
  },
  {
   "cell_type": "code",
   "execution_count": 8,
   "metadata": {
    "ExecuteTime": {
     "end_time": "2022-10-18T02:32:52.343500Z",
     "start_time": "2022-10-18T02:32:52.340485Z"
    }
   },
   "outputs": [],
   "source": [
    "x_coord = np.linspace(0, 1, N)\n",
    "y_coord = np.linspace(0, 1, N)\n",
    "z_coord = np.linspace(0, 1, N_z)"
   ]
  },
  {
   "cell_type": "markdown",
   "metadata": {},
   "source": [
    "Important note: for atmospheric ray tracing, we will need to let $z$ be the DEM Ellipsoidal height (I believe).\\"
   ]
  },
  {
   "cell_type": "markdown",
   "metadata": {},
   "source": [
    "## The data to be integrated\n",
    "\n",
    "Just the 1-cube"
   ]
  },
  {
   "cell_type": "code",
   "execution_count": 9,
   "metadata": {
    "ExecuteTime": {
     "end_time": "2022-10-18T02:32:52.377616Z",
     "start_time": "2022-10-18T02:32:52.345049Z"
    }
   },
   "outputs": [
    {
     "name": "stdout",
     "output_type": "stream",
     "text": [
      "CPU times: user 14.1 ms, sys: 16.2 ms, total: 30.3 ms\n",
      "Wall time: 28.6 ms\n"
     ]
    },
    {
     "data": {
      "text/plain": [
       "(1000, 1000, 10)"
      ]
     },
     "execution_count": 9,
     "metadata": {},
     "output_type": "execute_result"
    }
   ],
   "source": [
    "%%time\n",
    "\n",
    "D = np.ones((N, N, N_z))\n",
    "D.shape"
   ]
  },
  {
   "cell_type": "code",
   "execution_count": 10,
   "metadata": {
    "ExecuteTime": {
     "end_time": "2022-10-18T02:32:52.383668Z",
     "start_time": "2022-10-18T02:32:52.381227Z"
    }
   },
   "outputs": [],
   "source": [
    "dims=['x', 'y' , 'z']\n",
    "coords_dict = {'x': x_coord, 'y': y_coord, 'z': z_coord}"
   ]
  },
  {
   "cell_type": "code",
   "execution_count": 11,
   "metadata": {
    "ExecuteTime": {
     "end_time": "2022-10-18T02:32:52.387676Z",
     "start_time": "2022-10-18T02:32:52.385109Z"
    }
   },
   "outputs": [],
   "source": [
    "data_cube = xr.DataArray(data=D,\n",
    "                         dims=dims,\n",
    "                         coords=coords_dict)"
   ]
  },
  {
   "cell_type": "markdown",
   "metadata": {},
   "source": [
    "## Setting up the ray\n",
    "\n",
    "Within xarray."
   ]
  },
  {
   "cell_type": "code",
   "execution_count": 12,
   "metadata": {
    "ExecuteTime": {
     "end_time": "2022-10-18T02:32:52.490936Z",
     "start_time": "2022-10-18T02:32:52.389167Z"
    }
   },
   "outputs": [],
   "source": [
    "d_x = xr.DataArray(data=r_x * np.ones((N, N, N_z)),\n",
    "                   dims=dims,\n",
    "                   coords=coords_dict)\n",
    "d_y = xr.DataArray(data=r_y * np.ones((N, N, N_z)),\n",
    "                   dims=dims,\n",
    "                   coords=coords_dict)\n",
    "d_z = xr.DataArray(data=r_z * np.ones((N, N, N_z)),\n",
    "                   dims=dims,\n",
    "                   coords=coords_dict)"
   ]
  },
  {
   "cell_type": "markdown",
   "metadata": {},
   "source": [
    "Let's also initialize some datarrays for our computation."
   ]
  },
  {
   "cell_type": "code",
   "execution_count": 13,
   "metadata": {
    "ExecuteTime": {
     "end_time": "2022-10-18T02:32:52.495906Z",
     "start_time": "2022-10-18T02:32:52.492667Z"
    }
   },
   "outputs": [],
   "source": [
    "ray_length_analytic = xr.DataArray(data=np.zeros((N, N, N_z)),\n",
    "                          dims=dims,\n",
    "                          coords=coords_dict)\n",
    "ray_length_integration_loop = xr.DataArray(data=np.zeros((N, N, N_z)),\n",
    "                                           dims=dims,\n",
    "                                           coords=coords_dict)"
   ]
  },
  {
   "cell_type": "markdown",
   "metadata": {},
   "source": [
    "## The dataset"
   ]
  },
  {
   "cell_type": "code",
   "execution_count": 14,
   "metadata": {
    "ExecuteTime": {
     "end_time": "2022-10-18T02:32:52.520402Z",
     "start_time": "2022-10-18T02:32:52.497497Z"
    }
   },
   "outputs": [
    {
     "data": {
      "text/html": [
       "<div><svg style=\"position: absolute; width: 0; height: 0; overflow: hidden\">\n",
       "<defs>\n",
       "<symbol id=\"icon-database\" viewBox=\"0 0 32 32\">\n",
       "<path d=\"M16 0c-8.837 0-16 2.239-16 5v4c0 2.761 7.163 5 16 5s16-2.239 16-5v-4c0-2.761-7.163-5-16-5z\"></path>\n",
       "<path d=\"M16 17c-8.837 0-16-2.239-16-5v6c0 2.761 7.163 5 16 5s16-2.239 16-5v-6c0 2.761-7.163 5-16 5z\"></path>\n",
       "<path d=\"M16 26c-8.837 0-16-2.239-16-5v6c0 2.761 7.163 5 16 5s16-2.239 16-5v-6c0 2.761-7.163 5-16 5z\"></path>\n",
       "</symbol>\n",
       "<symbol id=\"icon-file-text2\" viewBox=\"0 0 32 32\">\n",
       "<path d=\"M28.681 7.159c-0.694-0.947-1.662-2.053-2.724-3.116s-2.169-2.030-3.116-2.724c-1.612-1.182-2.393-1.319-2.841-1.319h-15.5c-1.378 0-2.5 1.121-2.5 2.5v27c0 1.378 1.122 2.5 2.5 2.5h23c1.378 0 2.5-1.122 2.5-2.5v-19.5c0-0.448-0.137-1.23-1.319-2.841zM24.543 5.457c0.959 0.959 1.712 1.825 2.268 2.543h-4.811v-4.811c0.718 0.556 1.584 1.309 2.543 2.268zM28 29.5c0 0.271-0.229 0.5-0.5 0.5h-23c-0.271 0-0.5-0.229-0.5-0.5v-27c0-0.271 0.229-0.5 0.5-0.5 0 0 15.499-0 15.5 0v7c0 0.552 0.448 1 1 1h7v19.5z\"></path>\n",
       "<path d=\"M23 26h-14c-0.552 0-1-0.448-1-1s0.448-1 1-1h14c0.552 0 1 0.448 1 1s-0.448 1-1 1z\"></path>\n",
       "<path d=\"M23 22h-14c-0.552 0-1-0.448-1-1s0.448-1 1-1h14c0.552 0 1 0.448 1 1s-0.448 1-1 1z\"></path>\n",
       "<path d=\"M23 18h-14c-0.552 0-1-0.448-1-1s0.448-1 1-1h14c0.552 0 1 0.448 1 1s-0.448 1-1 1z\"></path>\n",
       "</symbol>\n",
       "</defs>\n",
       "</svg>\n",
       "<style>/* CSS stylesheet for displaying xarray objects in jupyterlab.\n",
       " *\n",
       " */\n",
       "\n",
       ":root {\n",
       "  --xr-font-color0: var(--jp-content-font-color0, rgba(0, 0, 0, 1));\n",
       "  --xr-font-color2: var(--jp-content-font-color2, rgba(0, 0, 0, 0.54));\n",
       "  --xr-font-color3: var(--jp-content-font-color3, rgba(0, 0, 0, 0.38));\n",
       "  --xr-border-color: var(--jp-border-color2, #e0e0e0);\n",
       "  --xr-disabled-color: var(--jp-layout-color3, #bdbdbd);\n",
       "  --xr-background-color: var(--jp-layout-color0, white);\n",
       "  --xr-background-color-row-even: var(--jp-layout-color1, white);\n",
       "  --xr-background-color-row-odd: var(--jp-layout-color2, #eeeeee);\n",
       "}\n",
       "\n",
       "html[theme=dark],\n",
       "body[data-theme=dark],\n",
       "body.vscode-dark {\n",
       "  --xr-font-color0: rgba(255, 255, 255, 1);\n",
       "  --xr-font-color2: rgba(255, 255, 255, 0.54);\n",
       "  --xr-font-color3: rgba(255, 255, 255, 0.38);\n",
       "  --xr-border-color: #1F1F1F;\n",
       "  --xr-disabled-color: #515151;\n",
       "  --xr-background-color: #111111;\n",
       "  --xr-background-color-row-even: #111111;\n",
       "  --xr-background-color-row-odd: #313131;\n",
       "}\n",
       "\n",
       ".xr-wrap {\n",
       "  display: block !important;\n",
       "  min-width: 300px;\n",
       "  max-width: 700px;\n",
       "}\n",
       "\n",
       ".xr-text-repr-fallback {\n",
       "  /* fallback to plain text repr when CSS is not injected (untrusted notebook) */\n",
       "  display: none;\n",
       "}\n",
       "\n",
       ".xr-header {\n",
       "  padding-top: 6px;\n",
       "  padding-bottom: 6px;\n",
       "  margin-bottom: 4px;\n",
       "  border-bottom: solid 1px var(--xr-border-color);\n",
       "}\n",
       "\n",
       ".xr-header > div,\n",
       ".xr-header > ul {\n",
       "  display: inline;\n",
       "  margin-top: 0;\n",
       "  margin-bottom: 0;\n",
       "}\n",
       "\n",
       ".xr-obj-type,\n",
       ".xr-array-name {\n",
       "  margin-left: 2px;\n",
       "  margin-right: 10px;\n",
       "}\n",
       "\n",
       ".xr-obj-type {\n",
       "  color: var(--xr-font-color2);\n",
       "}\n",
       "\n",
       ".xr-sections {\n",
       "  padding-left: 0 !important;\n",
       "  display: grid;\n",
       "  grid-template-columns: 150px auto auto 1fr 20px 20px;\n",
       "}\n",
       "\n",
       ".xr-section-item {\n",
       "  display: contents;\n",
       "}\n",
       "\n",
       ".xr-section-item input {\n",
       "  display: none;\n",
       "}\n",
       "\n",
       ".xr-section-item input + label {\n",
       "  color: var(--xr-disabled-color);\n",
       "}\n",
       "\n",
       ".xr-section-item input:enabled + label {\n",
       "  cursor: pointer;\n",
       "  color: var(--xr-font-color2);\n",
       "}\n",
       "\n",
       ".xr-section-item input:enabled + label:hover {\n",
       "  color: var(--xr-font-color0);\n",
       "}\n",
       "\n",
       ".xr-section-summary {\n",
       "  grid-column: 1;\n",
       "  color: var(--xr-font-color2);\n",
       "  font-weight: 500;\n",
       "}\n",
       "\n",
       ".xr-section-summary > span {\n",
       "  display: inline-block;\n",
       "  padding-left: 0.5em;\n",
       "}\n",
       "\n",
       ".xr-section-summary-in:disabled + label {\n",
       "  color: var(--xr-font-color2);\n",
       "}\n",
       "\n",
       ".xr-section-summary-in + label:before {\n",
       "  display: inline-block;\n",
       "  content: '►';\n",
       "  font-size: 11px;\n",
       "  width: 15px;\n",
       "  text-align: center;\n",
       "}\n",
       "\n",
       ".xr-section-summary-in:disabled + label:before {\n",
       "  color: var(--xr-disabled-color);\n",
       "}\n",
       "\n",
       ".xr-section-summary-in:checked + label:before {\n",
       "  content: '▼';\n",
       "}\n",
       "\n",
       ".xr-section-summary-in:checked + label > span {\n",
       "  display: none;\n",
       "}\n",
       "\n",
       ".xr-section-summary,\n",
       ".xr-section-inline-details {\n",
       "  padding-top: 4px;\n",
       "  padding-bottom: 4px;\n",
       "}\n",
       "\n",
       ".xr-section-inline-details {\n",
       "  grid-column: 2 / -1;\n",
       "}\n",
       "\n",
       ".xr-section-details {\n",
       "  display: none;\n",
       "  grid-column: 1 / -1;\n",
       "  margin-bottom: 5px;\n",
       "}\n",
       "\n",
       ".xr-section-summary-in:checked ~ .xr-section-details {\n",
       "  display: contents;\n",
       "}\n",
       "\n",
       ".xr-array-wrap {\n",
       "  grid-column: 1 / -1;\n",
       "  display: grid;\n",
       "  grid-template-columns: 20px auto;\n",
       "}\n",
       "\n",
       ".xr-array-wrap > label {\n",
       "  grid-column: 1;\n",
       "  vertical-align: top;\n",
       "}\n",
       "\n",
       ".xr-preview {\n",
       "  color: var(--xr-font-color3);\n",
       "}\n",
       "\n",
       ".xr-array-preview,\n",
       ".xr-array-data {\n",
       "  padding: 0 5px !important;\n",
       "  grid-column: 2;\n",
       "}\n",
       "\n",
       ".xr-array-data,\n",
       ".xr-array-in:checked ~ .xr-array-preview {\n",
       "  display: none;\n",
       "}\n",
       "\n",
       ".xr-array-in:checked ~ .xr-array-data,\n",
       ".xr-array-preview {\n",
       "  display: inline-block;\n",
       "}\n",
       "\n",
       ".xr-dim-list {\n",
       "  display: inline-block !important;\n",
       "  list-style: none;\n",
       "  padding: 0 !important;\n",
       "  margin: 0;\n",
       "}\n",
       "\n",
       ".xr-dim-list li {\n",
       "  display: inline-block;\n",
       "  padding: 0;\n",
       "  margin: 0;\n",
       "}\n",
       "\n",
       ".xr-dim-list:before {\n",
       "  content: '(';\n",
       "}\n",
       "\n",
       ".xr-dim-list:after {\n",
       "  content: ')';\n",
       "}\n",
       "\n",
       ".xr-dim-list li:not(:last-child):after {\n",
       "  content: ',';\n",
       "  padding-right: 5px;\n",
       "}\n",
       "\n",
       ".xr-has-index {\n",
       "  font-weight: bold;\n",
       "}\n",
       "\n",
       ".xr-var-list,\n",
       ".xr-var-item {\n",
       "  display: contents;\n",
       "}\n",
       "\n",
       ".xr-var-item > div,\n",
       ".xr-var-item label,\n",
       ".xr-var-item > .xr-var-name span {\n",
       "  background-color: var(--xr-background-color-row-even);\n",
       "  margin-bottom: 0;\n",
       "}\n",
       "\n",
       ".xr-var-item > .xr-var-name:hover span {\n",
       "  padding-right: 5px;\n",
       "}\n",
       "\n",
       ".xr-var-list > li:nth-child(odd) > div,\n",
       ".xr-var-list > li:nth-child(odd) > label,\n",
       ".xr-var-list > li:nth-child(odd) > .xr-var-name span {\n",
       "  background-color: var(--xr-background-color-row-odd);\n",
       "}\n",
       "\n",
       ".xr-var-name {\n",
       "  grid-column: 1;\n",
       "}\n",
       "\n",
       ".xr-var-dims {\n",
       "  grid-column: 2;\n",
       "}\n",
       "\n",
       ".xr-var-dtype {\n",
       "  grid-column: 3;\n",
       "  text-align: right;\n",
       "  color: var(--xr-font-color2);\n",
       "}\n",
       "\n",
       ".xr-var-preview {\n",
       "  grid-column: 4;\n",
       "}\n",
       "\n",
       ".xr-var-name,\n",
       ".xr-var-dims,\n",
       ".xr-var-dtype,\n",
       ".xr-preview,\n",
       ".xr-attrs dt {\n",
       "  white-space: nowrap;\n",
       "  overflow: hidden;\n",
       "  text-overflow: ellipsis;\n",
       "  padding-right: 10px;\n",
       "}\n",
       "\n",
       ".xr-var-name:hover,\n",
       ".xr-var-dims:hover,\n",
       ".xr-var-dtype:hover,\n",
       ".xr-attrs dt:hover {\n",
       "  overflow: visible;\n",
       "  width: auto;\n",
       "  z-index: 1;\n",
       "}\n",
       "\n",
       ".xr-var-attrs,\n",
       ".xr-var-data {\n",
       "  display: none;\n",
       "  background-color: var(--xr-background-color) !important;\n",
       "  padding-bottom: 5px !important;\n",
       "}\n",
       "\n",
       ".xr-var-attrs-in:checked ~ .xr-var-attrs,\n",
       ".xr-var-data-in:checked ~ .xr-var-data {\n",
       "  display: block;\n",
       "}\n",
       "\n",
       ".xr-var-data > table {\n",
       "  float: right;\n",
       "}\n",
       "\n",
       ".xr-var-name span,\n",
       ".xr-var-data,\n",
       ".xr-attrs {\n",
       "  padding-left: 25px !important;\n",
       "}\n",
       "\n",
       ".xr-attrs,\n",
       ".xr-var-attrs,\n",
       ".xr-var-data {\n",
       "  grid-column: 1 / -1;\n",
       "}\n",
       "\n",
       "dl.xr-attrs {\n",
       "  padding: 0;\n",
       "  margin: 0;\n",
       "  display: grid;\n",
       "  grid-template-columns: 125px auto;\n",
       "}\n",
       "\n",
       ".xr-attrs dt,\n",
       ".xr-attrs dd {\n",
       "  padding: 0;\n",
       "  margin: 0;\n",
       "  float: left;\n",
       "  padding-right: 10px;\n",
       "  width: auto;\n",
       "}\n",
       "\n",
       ".xr-attrs dt {\n",
       "  font-weight: normal;\n",
       "  grid-column: 1;\n",
       "}\n",
       "\n",
       ".xr-attrs dt:hover span {\n",
       "  display: inline-block;\n",
       "  background: var(--xr-background-color);\n",
       "  padding-right: 10px;\n",
       "}\n",
       "\n",
       ".xr-attrs dd {\n",
       "  grid-column: 2;\n",
       "  white-space: pre-wrap;\n",
       "  word-break: break-all;\n",
       "}\n",
       "\n",
       ".xr-icon-database,\n",
       ".xr-icon-file-text2 {\n",
       "  display: inline-block;\n",
       "  vertical-align: middle;\n",
       "  width: 1em;\n",
       "  height: 1.5em !important;\n",
       "  stroke-width: 0;\n",
       "  stroke: currentColor;\n",
       "  fill: currentColor;\n",
       "}\n",
       "</style><pre class='xr-text-repr-fallback'>&lt;xarray.Dataset&gt;\n",
       "Dimensions:                      (x: 1000, y: 1000, z: 10)\n",
       "Coordinates:\n",
       "  * x                            (x) float64 0.0 0.001001 0.002002 ... 0.999 1.0\n",
       "  * y                            (y) float64 0.0 0.001001 0.002002 ... 0.999 1.0\n",
       "  * z                            (z) float64 0.0 0.1111 0.2222 ... 0.8889 1.0\n",
       "Data variables:\n",
       "    data_cube                    (x, y, z) float64 1.0 1.0 1.0 ... 1.0 1.0 1.0\n",
       "    d_x                          (x, y, z) float64 0.5774 0.5774 ... 0.5774\n",
       "    d_y                          (x, y, z) float64 0.5774 0.5774 ... 0.5774\n",
       "    d_z                          (x, y, z) float64 0.5774 0.5774 ... 0.5774\n",
       "    ray_length_analytic          (x, y, z) float64 0.0 0.0 0.0 ... 0.0 0.0 0.0\n",
       "    ray_length_integration_loop  (x, y, z) float64 0.0 0.0 0.0 ... 0.0 0.0 0.0</pre><div class='xr-wrap' style='display:none'><div class='xr-header'><div class='xr-obj-type'>xarray.Dataset</div></div><ul class='xr-sections'><li class='xr-section-item'><input id='section-4bafe468-260b-48a3-b73f-d6fab7d139d8' class='xr-section-summary-in' type='checkbox' disabled ><label for='section-4bafe468-260b-48a3-b73f-d6fab7d139d8' class='xr-section-summary'  title='Expand/collapse section'>Dimensions:</label><div class='xr-section-inline-details'><ul class='xr-dim-list'><li><span class='xr-has-index'>x</span>: 1000</li><li><span class='xr-has-index'>y</span>: 1000</li><li><span class='xr-has-index'>z</span>: 10</li></ul></div><div class='xr-section-details'></div></li><li class='xr-section-item'><input id='section-c605941a-38a6-48ee-8e3c-89a7023a0bb3' class='xr-section-summary-in' type='checkbox'  checked><label for='section-c605941a-38a6-48ee-8e3c-89a7023a0bb3' class='xr-section-summary' >Coordinates: <span>(3)</span></label><div class='xr-section-inline-details'></div><div class='xr-section-details'><ul class='xr-var-list'><li class='xr-var-item'><div class='xr-var-name'><span class='xr-has-index'>x</span></div><div class='xr-var-dims'>(x)</div><div class='xr-var-dtype'>float64</div><div class='xr-var-preview xr-preview'>0.0 0.001001 0.002002 ... 0.999 1.0</div><input id='attrs-468fb9df-999c-41f6-b5d2-4b61fb91c4b6' class='xr-var-attrs-in' type='checkbox' disabled><label for='attrs-468fb9df-999c-41f6-b5d2-4b61fb91c4b6' title='Show/Hide attributes'><svg class='icon xr-icon-file-text2'><use xlink:href='#icon-file-text2'></use></svg></label><input id='data-6cf40f4b-b08f-4e9d-aed5-9f43913c9ad0' class='xr-var-data-in' type='checkbox'><label for='data-6cf40f4b-b08f-4e9d-aed5-9f43913c9ad0' title='Show/Hide data repr'><svg class='icon xr-icon-database'><use xlink:href='#icon-database'></use></svg></label><div class='xr-var-attrs'><dl class='xr-attrs'></dl></div><div class='xr-var-data'><pre>array([0.      , 0.001001, 0.002002, ..., 0.997998, 0.998999, 1.      ])</pre></div></li><li class='xr-var-item'><div class='xr-var-name'><span class='xr-has-index'>y</span></div><div class='xr-var-dims'>(y)</div><div class='xr-var-dtype'>float64</div><div class='xr-var-preview xr-preview'>0.0 0.001001 0.002002 ... 0.999 1.0</div><input id='attrs-519fd91a-3320-4d77-a87f-8b33e353cbbc' class='xr-var-attrs-in' type='checkbox' disabled><label for='attrs-519fd91a-3320-4d77-a87f-8b33e353cbbc' title='Show/Hide attributes'><svg class='icon xr-icon-file-text2'><use xlink:href='#icon-file-text2'></use></svg></label><input id='data-25b9c7e2-20e8-4810-8122-0b0191258382' class='xr-var-data-in' type='checkbox'><label for='data-25b9c7e2-20e8-4810-8122-0b0191258382' title='Show/Hide data repr'><svg class='icon xr-icon-database'><use xlink:href='#icon-database'></use></svg></label><div class='xr-var-attrs'><dl class='xr-attrs'></dl></div><div class='xr-var-data'><pre>array([0.      , 0.001001, 0.002002, ..., 0.997998, 0.998999, 1.      ])</pre></div></li><li class='xr-var-item'><div class='xr-var-name'><span class='xr-has-index'>z</span></div><div class='xr-var-dims'>(z)</div><div class='xr-var-dtype'>float64</div><div class='xr-var-preview xr-preview'>0.0 0.1111 0.2222 ... 0.8889 1.0</div><input id='attrs-46efeb88-88e1-44b3-aaec-b09b811717e6' class='xr-var-attrs-in' type='checkbox' disabled><label for='attrs-46efeb88-88e1-44b3-aaec-b09b811717e6' title='Show/Hide attributes'><svg class='icon xr-icon-file-text2'><use xlink:href='#icon-file-text2'></use></svg></label><input id='data-b1f4307b-eab7-49b7-9870-8da981c4d6df' class='xr-var-data-in' type='checkbox'><label for='data-b1f4307b-eab7-49b7-9870-8da981c4d6df' title='Show/Hide data repr'><svg class='icon xr-icon-database'><use xlink:href='#icon-database'></use></svg></label><div class='xr-var-attrs'><dl class='xr-attrs'></dl></div><div class='xr-var-data'><pre>array([0.      , 0.111111, 0.222222, 0.333333, 0.444444, 0.555556, 0.666667,\n",
       "       0.777778, 0.888889, 1.      ])</pre></div></li></ul></div></li><li class='xr-section-item'><input id='section-41abc809-fa7c-4d21-ac6d-2bc6391819a1' class='xr-section-summary-in' type='checkbox'  checked><label for='section-41abc809-fa7c-4d21-ac6d-2bc6391819a1' class='xr-section-summary' >Data variables: <span>(6)</span></label><div class='xr-section-inline-details'></div><div class='xr-section-details'><ul class='xr-var-list'><li class='xr-var-item'><div class='xr-var-name'><span>data_cube</span></div><div class='xr-var-dims'>(x, y, z)</div><div class='xr-var-dtype'>float64</div><div class='xr-var-preview xr-preview'>1.0 1.0 1.0 1.0 ... 1.0 1.0 1.0 1.0</div><input id='attrs-920dd7ca-12ed-4b52-bd49-36a60def3a76' class='xr-var-attrs-in' type='checkbox' disabled><label for='attrs-920dd7ca-12ed-4b52-bd49-36a60def3a76' title='Show/Hide attributes'><svg class='icon xr-icon-file-text2'><use xlink:href='#icon-file-text2'></use></svg></label><input id='data-0284143b-7d28-4942-99dc-6fc6bf1d241e' class='xr-var-data-in' type='checkbox'><label for='data-0284143b-7d28-4942-99dc-6fc6bf1d241e' title='Show/Hide data repr'><svg class='icon xr-icon-database'><use xlink:href='#icon-database'></use></svg></label><div class='xr-var-attrs'><dl class='xr-attrs'></dl></div><div class='xr-var-data'><pre>array([[[1., 1., 1., ..., 1., 1., 1.],\n",
       "        [1., 1., 1., ..., 1., 1., 1.],\n",
       "        [1., 1., 1., ..., 1., 1., 1.],\n",
       "        ...,\n",
       "        [1., 1., 1., ..., 1., 1., 1.],\n",
       "        [1., 1., 1., ..., 1., 1., 1.],\n",
       "        [1., 1., 1., ..., 1., 1., 1.]],\n",
       "\n",
       "       [[1., 1., 1., ..., 1., 1., 1.],\n",
       "        [1., 1., 1., ..., 1., 1., 1.],\n",
       "        [1., 1., 1., ..., 1., 1., 1.],\n",
       "        ...,\n",
       "        [1., 1., 1., ..., 1., 1., 1.],\n",
       "        [1., 1., 1., ..., 1., 1., 1.],\n",
       "        [1., 1., 1., ..., 1., 1., 1.]],\n",
       "\n",
       "       [[1., 1., 1., ..., 1., 1., 1.],\n",
       "        [1., 1., 1., ..., 1., 1., 1.],\n",
       "        [1., 1., 1., ..., 1., 1., 1.],\n",
       "        ...,\n",
       "...\n",
       "        ...,\n",
       "        [1., 1., 1., ..., 1., 1., 1.],\n",
       "        [1., 1., 1., ..., 1., 1., 1.],\n",
       "        [1., 1., 1., ..., 1., 1., 1.]],\n",
       "\n",
       "       [[1., 1., 1., ..., 1., 1., 1.],\n",
       "        [1., 1., 1., ..., 1., 1., 1.],\n",
       "        [1., 1., 1., ..., 1., 1., 1.],\n",
       "        ...,\n",
       "        [1., 1., 1., ..., 1., 1., 1.],\n",
       "        [1., 1., 1., ..., 1., 1., 1.],\n",
       "        [1., 1., 1., ..., 1., 1., 1.]],\n",
       "\n",
       "       [[1., 1., 1., ..., 1., 1., 1.],\n",
       "        [1., 1., 1., ..., 1., 1., 1.],\n",
       "        [1., 1., 1., ..., 1., 1., 1.],\n",
       "        ...,\n",
       "        [1., 1., 1., ..., 1., 1., 1.],\n",
       "        [1., 1., 1., ..., 1., 1., 1.],\n",
       "        [1., 1., 1., ..., 1., 1., 1.]]])</pre></div></li><li class='xr-var-item'><div class='xr-var-name'><span>d_x</span></div><div class='xr-var-dims'>(x, y, z)</div><div class='xr-var-dtype'>float64</div><div class='xr-var-preview xr-preview'>0.5774 0.5774 ... 0.5774 0.5774</div><input id='attrs-f6d08cef-7f51-4bfb-8a14-6d0e04c041dd' class='xr-var-attrs-in' type='checkbox' disabled><label for='attrs-f6d08cef-7f51-4bfb-8a14-6d0e04c041dd' title='Show/Hide attributes'><svg class='icon xr-icon-file-text2'><use xlink:href='#icon-file-text2'></use></svg></label><input id='data-eb5d6ffa-6806-4cdf-93dc-4808f60c391e' class='xr-var-data-in' type='checkbox'><label for='data-eb5d6ffa-6806-4cdf-93dc-4808f60c391e' title='Show/Hide data repr'><svg class='icon xr-icon-database'><use xlink:href='#icon-database'></use></svg></label><div class='xr-var-attrs'><dl class='xr-attrs'></dl></div><div class='xr-var-data'><pre>array([[[0.57735027, 0.57735027, 0.57735027, ..., 0.57735027,\n",
       "         0.57735027, 0.57735027],\n",
       "        [0.57735027, 0.57735027, 0.57735027, ..., 0.57735027,\n",
       "         0.57735027, 0.57735027],\n",
       "        [0.57735027, 0.57735027, 0.57735027, ..., 0.57735027,\n",
       "         0.57735027, 0.57735027],\n",
       "        ...,\n",
       "        [0.57735027, 0.57735027, 0.57735027, ..., 0.57735027,\n",
       "         0.57735027, 0.57735027],\n",
       "        [0.57735027, 0.57735027, 0.57735027, ..., 0.57735027,\n",
       "         0.57735027, 0.57735027],\n",
       "        [0.57735027, 0.57735027, 0.57735027, ..., 0.57735027,\n",
       "         0.57735027, 0.57735027]],\n",
       "\n",
       "       [[0.57735027, 0.57735027, 0.57735027, ..., 0.57735027,\n",
       "         0.57735027, 0.57735027],\n",
       "        [0.57735027, 0.57735027, 0.57735027, ..., 0.57735027,\n",
       "         0.57735027, 0.57735027],\n",
       "        [0.57735027, 0.57735027, 0.57735027, ..., 0.57735027,\n",
       "         0.57735027, 0.57735027],\n",
       "...\n",
       "        [0.57735027, 0.57735027, 0.57735027, ..., 0.57735027,\n",
       "         0.57735027, 0.57735027],\n",
       "        [0.57735027, 0.57735027, 0.57735027, ..., 0.57735027,\n",
       "         0.57735027, 0.57735027],\n",
       "        [0.57735027, 0.57735027, 0.57735027, ..., 0.57735027,\n",
       "         0.57735027, 0.57735027]],\n",
       "\n",
       "       [[0.57735027, 0.57735027, 0.57735027, ..., 0.57735027,\n",
       "         0.57735027, 0.57735027],\n",
       "        [0.57735027, 0.57735027, 0.57735027, ..., 0.57735027,\n",
       "         0.57735027, 0.57735027],\n",
       "        [0.57735027, 0.57735027, 0.57735027, ..., 0.57735027,\n",
       "         0.57735027, 0.57735027],\n",
       "        ...,\n",
       "        [0.57735027, 0.57735027, 0.57735027, ..., 0.57735027,\n",
       "         0.57735027, 0.57735027],\n",
       "        [0.57735027, 0.57735027, 0.57735027, ..., 0.57735027,\n",
       "         0.57735027, 0.57735027],\n",
       "        [0.57735027, 0.57735027, 0.57735027, ..., 0.57735027,\n",
       "         0.57735027, 0.57735027]]])</pre></div></li><li class='xr-var-item'><div class='xr-var-name'><span>d_y</span></div><div class='xr-var-dims'>(x, y, z)</div><div class='xr-var-dtype'>float64</div><div class='xr-var-preview xr-preview'>0.5774 0.5774 ... 0.5774 0.5774</div><input id='attrs-244aaf1e-09d2-4cbd-a5c4-694eaf26caea' class='xr-var-attrs-in' type='checkbox' disabled><label for='attrs-244aaf1e-09d2-4cbd-a5c4-694eaf26caea' title='Show/Hide attributes'><svg class='icon xr-icon-file-text2'><use xlink:href='#icon-file-text2'></use></svg></label><input id='data-82695937-e7d8-45b4-b4ca-06536b94ec61' class='xr-var-data-in' type='checkbox'><label for='data-82695937-e7d8-45b4-b4ca-06536b94ec61' title='Show/Hide data repr'><svg class='icon xr-icon-database'><use xlink:href='#icon-database'></use></svg></label><div class='xr-var-attrs'><dl class='xr-attrs'></dl></div><div class='xr-var-data'><pre>array([[[0.57735027, 0.57735027, 0.57735027, ..., 0.57735027,\n",
       "         0.57735027, 0.57735027],\n",
       "        [0.57735027, 0.57735027, 0.57735027, ..., 0.57735027,\n",
       "         0.57735027, 0.57735027],\n",
       "        [0.57735027, 0.57735027, 0.57735027, ..., 0.57735027,\n",
       "         0.57735027, 0.57735027],\n",
       "        ...,\n",
       "        [0.57735027, 0.57735027, 0.57735027, ..., 0.57735027,\n",
       "         0.57735027, 0.57735027],\n",
       "        [0.57735027, 0.57735027, 0.57735027, ..., 0.57735027,\n",
       "         0.57735027, 0.57735027],\n",
       "        [0.57735027, 0.57735027, 0.57735027, ..., 0.57735027,\n",
       "         0.57735027, 0.57735027]],\n",
       "\n",
       "       [[0.57735027, 0.57735027, 0.57735027, ..., 0.57735027,\n",
       "         0.57735027, 0.57735027],\n",
       "        [0.57735027, 0.57735027, 0.57735027, ..., 0.57735027,\n",
       "         0.57735027, 0.57735027],\n",
       "        [0.57735027, 0.57735027, 0.57735027, ..., 0.57735027,\n",
       "         0.57735027, 0.57735027],\n",
       "...\n",
       "        [0.57735027, 0.57735027, 0.57735027, ..., 0.57735027,\n",
       "         0.57735027, 0.57735027],\n",
       "        [0.57735027, 0.57735027, 0.57735027, ..., 0.57735027,\n",
       "         0.57735027, 0.57735027],\n",
       "        [0.57735027, 0.57735027, 0.57735027, ..., 0.57735027,\n",
       "         0.57735027, 0.57735027]],\n",
       "\n",
       "       [[0.57735027, 0.57735027, 0.57735027, ..., 0.57735027,\n",
       "         0.57735027, 0.57735027],\n",
       "        [0.57735027, 0.57735027, 0.57735027, ..., 0.57735027,\n",
       "         0.57735027, 0.57735027],\n",
       "        [0.57735027, 0.57735027, 0.57735027, ..., 0.57735027,\n",
       "         0.57735027, 0.57735027],\n",
       "        ...,\n",
       "        [0.57735027, 0.57735027, 0.57735027, ..., 0.57735027,\n",
       "         0.57735027, 0.57735027],\n",
       "        [0.57735027, 0.57735027, 0.57735027, ..., 0.57735027,\n",
       "         0.57735027, 0.57735027],\n",
       "        [0.57735027, 0.57735027, 0.57735027, ..., 0.57735027,\n",
       "         0.57735027, 0.57735027]]])</pre></div></li><li class='xr-var-item'><div class='xr-var-name'><span>d_z</span></div><div class='xr-var-dims'>(x, y, z)</div><div class='xr-var-dtype'>float64</div><div class='xr-var-preview xr-preview'>0.5774 0.5774 ... 0.5774 0.5774</div><input id='attrs-b75ffd86-3ca4-4689-843a-cbac82ce5bc1' class='xr-var-attrs-in' type='checkbox' disabled><label for='attrs-b75ffd86-3ca4-4689-843a-cbac82ce5bc1' title='Show/Hide attributes'><svg class='icon xr-icon-file-text2'><use xlink:href='#icon-file-text2'></use></svg></label><input id='data-2f3bff41-d7b6-40c9-9a12-b0a68bf73b0e' class='xr-var-data-in' type='checkbox'><label for='data-2f3bff41-d7b6-40c9-9a12-b0a68bf73b0e' title='Show/Hide data repr'><svg class='icon xr-icon-database'><use xlink:href='#icon-database'></use></svg></label><div class='xr-var-attrs'><dl class='xr-attrs'></dl></div><div class='xr-var-data'><pre>array([[[0.57735027, 0.57735027, 0.57735027, ..., 0.57735027,\n",
       "         0.57735027, 0.57735027],\n",
       "        [0.57735027, 0.57735027, 0.57735027, ..., 0.57735027,\n",
       "         0.57735027, 0.57735027],\n",
       "        [0.57735027, 0.57735027, 0.57735027, ..., 0.57735027,\n",
       "         0.57735027, 0.57735027],\n",
       "        ...,\n",
       "        [0.57735027, 0.57735027, 0.57735027, ..., 0.57735027,\n",
       "         0.57735027, 0.57735027],\n",
       "        [0.57735027, 0.57735027, 0.57735027, ..., 0.57735027,\n",
       "         0.57735027, 0.57735027],\n",
       "        [0.57735027, 0.57735027, 0.57735027, ..., 0.57735027,\n",
       "         0.57735027, 0.57735027]],\n",
       "\n",
       "       [[0.57735027, 0.57735027, 0.57735027, ..., 0.57735027,\n",
       "         0.57735027, 0.57735027],\n",
       "        [0.57735027, 0.57735027, 0.57735027, ..., 0.57735027,\n",
       "         0.57735027, 0.57735027],\n",
       "        [0.57735027, 0.57735027, 0.57735027, ..., 0.57735027,\n",
       "         0.57735027, 0.57735027],\n",
       "...\n",
       "        [0.57735027, 0.57735027, 0.57735027, ..., 0.57735027,\n",
       "         0.57735027, 0.57735027],\n",
       "        [0.57735027, 0.57735027, 0.57735027, ..., 0.57735027,\n",
       "         0.57735027, 0.57735027],\n",
       "        [0.57735027, 0.57735027, 0.57735027, ..., 0.57735027,\n",
       "         0.57735027, 0.57735027]],\n",
       "\n",
       "       [[0.57735027, 0.57735027, 0.57735027, ..., 0.57735027,\n",
       "         0.57735027, 0.57735027],\n",
       "        [0.57735027, 0.57735027, 0.57735027, ..., 0.57735027,\n",
       "         0.57735027, 0.57735027],\n",
       "        [0.57735027, 0.57735027, 0.57735027, ..., 0.57735027,\n",
       "         0.57735027, 0.57735027],\n",
       "        ...,\n",
       "        [0.57735027, 0.57735027, 0.57735027, ..., 0.57735027,\n",
       "         0.57735027, 0.57735027],\n",
       "        [0.57735027, 0.57735027, 0.57735027, ..., 0.57735027,\n",
       "         0.57735027, 0.57735027],\n",
       "        [0.57735027, 0.57735027, 0.57735027, ..., 0.57735027,\n",
       "         0.57735027, 0.57735027]]])</pre></div></li><li class='xr-var-item'><div class='xr-var-name'><span>ray_length_analytic</span></div><div class='xr-var-dims'>(x, y, z)</div><div class='xr-var-dtype'>float64</div><div class='xr-var-preview xr-preview'>0.0 0.0 0.0 0.0 ... 0.0 0.0 0.0 0.0</div><input id='attrs-5ce6caee-2333-4811-bd5d-e0c7fbbc19ca' class='xr-var-attrs-in' type='checkbox' disabled><label for='attrs-5ce6caee-2333-4811-bd5d-e0c7fbbc19ca' title='Show/Hide attributes'><svg class='icon xr-icon-file-text2'><use xlink:href='#icon-file-text2'></use></svg></label><input id='data-48a48992-efb2-44d0-b9ee-644422d5d55b' class='xr-var-data-in' type='checkbox'><label for='data-48a48992-efb2-44d0-b9ee-644422d5d55b' title='Show/Hide data repr'><svg class='icon xr-icon-database'><use xlink:href='#icon-database'></use></svg></label><div class='xr-var-attrs'><dl class='xr-attrs'></dl></div><div class='xr-var-data'><pre>array([[[0., 0., 0., ..., 0., 0., 0.],\n",
       "        [0., 0., 0., ..., 0., 0., 0.],\n",
       "        [0., 0., 0., ..., 0., 0., 0.],\n",
       "        ...,\n",
       "        [0., 0., 0., ..., 0., 0., 0.],\n",
       "        [0., 0., 0., ..., 0., 0., 0.],\n",
       "        [0., 0., 0., ..., 0., 0., 0.]],\n",
       "\n",
       "       [[0., 0., 0., ..., 0., 0., 0.],\n",
       "        [0., 0., 0., ..., 0., 0., 0.],\n",
       "        [0., 0., 0., ..., 0., 0., 0.],\n",
       "        ...,\n",
       "        [0., 0., 0., ..., 0., 0., 0.],\n",
       "        [0., 0., 0., ..., 0., 0., 0.],\n",
       "        [0., 0., 0., ..., 0., 0., 0.]],\n",
       "\n",
       "       [[0., 0., 0., ..., 0., 0., 0.],\n",
       "        [0., 0., 0., ..., 0., 0., 0.],\n",
       "        [0., 0., 0., ..., 0., 0., 0.],\n",
       "        ...,\n",
       "...\n",
       "        ...,\n",
       "        [0., 0., 0., ..., 0., 0., 0.],\n",
       "        [0., 0., 0., ..., 0., 0., 0.],\n",
       "        [0., 0., 0., ..., 0., 0., 0.]],\n",
       "\n",
       "       [[0., 0., 0., ..., 0., 0., 0.],\n",
       "        [0., 0., 0., ..., 0., 0., 0.],\n",
       "        [0., 0., 0., ..., 0., 0., 0.],\n",
       "        ...,\n",
       "        [0., 0., 0., ..., 0., 0., 0.],\n",
       "        [0., 0., 0., ..., 0., 0., 0.],\n",
       "        [0., 0., 0., ..., 0., 0., 0.]],\n",
       "\n",
       "       [[0., 0., 0., ..., 0., 0., 0.],\n",
       "        [0., 0., 0., ..., 0., 0., 0.],\n",
       "        [0., 0., 0., ..., 0., 0., 0.],\n",
       "        ...,\n",
       "        [0., 0., 0., ..., 0., 0., 0.],\n",
       "        [0., 0., 0., ..., 0., 0., 0.],\n",
       "        [0., 0., 0., ..., 0., 0., 0.]]])</pre></div></li><li class='xr-var-item'><div class='xr-var-name'><span>ray_length_integration_loop</span></div><div class='xr-var-dims'>(x, y, z)</div><div class='xr-var-dtype'>float64</div><div class='xr-var-preview xr-preview'>0.0 0.0 0.0 0.0 ... 0.0 0.0 0.0 0.0</div><input id='attrs-11fa2e7a-ae02-4f37-80cf-5447eb42d5e9' class='xr-var-attrs-in' type='checkbox' disabled><label for='attrs-11fa2e7a-ae02-4f37-80cf-5447eb42d5e9' title='Show/Hide attributes'><svg class='icon xr-icon-file-text2'><use xlink:href='#icon-file-text2'></use></svg></label><input id='data-bf4ff015-c8f2-4931-9ec1-dd9dcd5f6d3f' class='xr-var-data-in' type='checkbox'><label for='data-bf4ff015-c8f2-4931-9ec1-dd9dcd5f6d3f' title='Show/Hide data repr'><svg class='icon xr-icon-database'><use xlink:href='#icon-database'></use></svg></label><div class='xr-var-attrs'><dl class='xr-attrs'></dl></div><div class='xr-var-data'><pre>array([[[0., 0., 0., ..., 0., 0., 0.],\n",
       "        [0., 0., 0., ..., 0., 0., 0.],\n",
       "        [0., 0., 0., ..., 0., 0., 0.],\n",
       "        ...,\n",
       "        [0., 0., 0., ..., 0., 0., 0.],\n",
       "        [0., 0., 0., ..., 0., 0., 0.],\n",
       "        [0., 0., 0., ..., 0., 0., 0.]],\n",
       "\n",
       "       [[0., 0., 0., ..., 0., 0., 0.],\n",
       "        [0., 0., 0., ..., 0., 0., 0.],\n",
       "        [0., 0., 0., ..., 0., 0., 0.],\n",
       "        ...,\n",
       "        [0., 0., 0., ..., 0., 0., 0.],\n",
       "        [0., 0., 0., ..., 0., 0., 0.],\n",
       "        [0., 0., 0., ..., 0., 0., 0.]],\n",
       "\n",
       "       [[0., 0., 0., ..., 0., 0., 0.],\n",
       "        [0., 0., 0., ..., 0., 0., 0.],\n",
       "        [0., 0., 0., ..., 0., 0., 0.],\n",
       "        ...,\n",
       "...\n",
       "        ...,\n",
       "        [0., 0., 0., ..., 0., 0., 0.],\n",
       "        [0., 0., 0., ..., 0., 0., 0.],\n",
       "        [0., 0., 0., ..., 0., 0., 0.]],\n",
       "\n",
       "       [[0., 0., 0., ..., 0., 0., 0.],\n",
       "        [0., 0., 0., ..., 0., 0., 0.],\n",
       "        [0., 0., 0., ..., 0., 0., 0.],\n",
       "        ...,\n",
       "        [0., 0., 0., ..., 0., 0., 0.],\n",
       "        [0., 0., 0., ..., 0., 0., 0.],\n",
       "        [0., 0., 0., ..., 0., 0., 0.]],\n",
       "\n",
       "       [[0., 0., 0., ..., 0., 0., 0.],\n",
       "        [0., 0., 0., ..., 0., 0., 0.],\n",
       "        [0., 0., 0., ..., 0., 0., 0.],\n",
       "        ...,\n",
       "        [0., 0., 0., ..., 0., 0., 0.],\n",
       "        [0., 0., 0., ..., 0., 0., 0.],\n",
       "        [0., 0., 0., ..., 0., 0., 0.]]])</pre></div></li></ul></div></li><li class='xr-section-item'><input id='section-7541c695-90fe-4876-8471-1134f7b7ad9a' class='xr-section-summary-in' type='checkbox' disabled ><label for='section-7541c695-90fe-4876-8471-1134f7b7ad9a' class='xr-section-summary'  title='Expand/collapse section'>Attributes: <span>(0)</span></label><div class='xr-section-inline-details'></div><div class='xr-section-details'><dl class='xr-attrs'></dl></div></li></ul></div></div>"
      ],
      "text/plain": [
       "<xarray.Dataset>\n",
       "Dimensions:                      (x: 1000, y: 1000, z: 10)\n",
       "Coordinates:\n",
       "  * x                            (x) float64 0.0 0.001001 0.002002 ... 0.999 1.0\n",
       "  * y                            (y) float64 0.0 0.001001 0.002002 ... 0.999 1.0\n",
       "  * z                            (z) float64 0.0 0.1111 0.2222 ... 0.8889 1.0\n",
       "Data variables:\n",
       "    data_cube                    (x, y, z) float64 1.0 1.0 1.0 ... 1.0 1.0 1.0\n",
       "    d_x                          (x, y, z) float64 0.5774 0.5774 ... 0.5774\n",
       "    d_y                          (x, y, z) float64 0.5774 0.5774 ... 0.5774\n",
       "    d_z                          (x, y, z) float64 0.5774 0.5774 ... 0.5774\n",
       "    ray_length_analytic          (x, y, z) float64 0.0 0.0 0.0 ... 0.0 0.0 0.0\n",
       "    ray_length_integration_loop  (x, y, z) float64 0.0 0.0 0.0 ... 0.0 0.0 0.0"
      ]
     },
     "execution_count": 14,
     "metadata": {},
     "output_type": "execute_result"
    }
   ],
   "source": [
    "ds = xr.Dataset({'data_cube':data_cube,\n",
    "                 'd_x': d_x,\n",
    "                 'd_y': d_y,\n",
    "                 'd_z': d_z,\n",
    "                 'ray_length_analytic': ray_length_analytic,\n",
    "                 'ray_length_integration_loop': ray_length_integration_loop\n",
    "                })\n",
    "ds"
   ]
  },
  {
   "cell_type": "markdown",
   "metadata": {},
   "source": [
    "# Simplified Approach (with loops)\n",
    "\n",
    "## Compution using Euclidean Norm\n",
    "\n",
    "Let's use a nonvectorized form of the ray creation and compute length. We are also going to interpolate per point which will also be slower. This is for demonstration."
   ]
  },
  {
   "cell_type": "code",
   "execution_count": 15,
   "metadata": {
    "ExecuteTime": {
     "end_time": "2022-10-18T02:32:52.528354Z",
     "start_time": "2022-10-18T02:32:52.522115Z"
    }
   },
   "outputs": [],
   "source": [
    "def get_ray(p_x: float, \n",
    "            p_y: float, \n",
    "            p_z: float,\n",
    "            d_x: float, \n",
    "            d_y: float, \n",
    "            d_z: float,\n",
    "            n_points=N_POINTS,\n",
    "            step_size=STEP_SIZE):\n",
    "\n",
    "    ray_start = np.array([p_x, p_y, p_z])\n",
    "    ray_direction = np.array([d_x, d_y, d_z])\n",
    "\n",
    "    ray_init = np.repeat(np.arange(n_points)[:,None],\n",
    "                         3, \n",
    "                         axis=1)\n",
    "    ray = ray_start + step_size * ray_init * ray_direction\n",
    "    return ray\n",
    "\n",
    "def compute_length(p_x: float,\n",
    "                   p_y: float,\n",
    "                   p_z: float, \n",
    "                   d_x: float, \n",
    "                   d_y: float, \n",
    "                   d_z: float) -> float:\n",
    "    \"\"\"\n",
    "    In the unit cube!\n",
    "    \"\"\"\n",
    "    \n",
    "    ray = get_ray(p_x, p_y, p_z, d_x, d_y, d_z)\n",
    "    # source: https://stackoverflow.com/a/432289\n",
    "    # want to get intersection with unit-cube\n",
    "    itemindex = np.where(ray>=1)\n",
    "    ray_endpoint = ray[itemindex[0][0]]\n",
    "    return np.linalg.norm(ray_endpoint - ray[0, ...])\n",
    "\n",
    "def compute_length_integration(p_x: float, p_y: float, p_z: float) ->float:\n",
    "    d_x = ds['d_x'].sel(x=p_x, y=p_y, z=p_z).data\n",
    "    d_y = ds['d_y'].sel(x=p_x, y=p_y, z=p_z).data\n",
    "    d_z = ds['d_z'].sel(x=p_x, y=p_y, z=p_z).data\n",
    "\n",
    "    ray = get_ray(p_x, p_y, p_z, d_x, d_y, d_z)\n",
    "    ray_x, ray_y, ray_z = ray[...,0], ray[..., 1], ray[..., 2]\n",
    "\n",
    "    ray_x = xr.DataArray(ray_x, dims=\"step\")\n",
    "    ray_y = xr.DataArray(ray_y, dims=\"step\")\n",
    "    ray_z = xr.DataArray(ray_z, dims=\"step\")\n",
    "\n",
    "    z = ds['data_cube'].interp(x=ray_x, y=ray_y, z=ray_z, kwargs={\"fill_value\": 0})\n",
    "    return np.trapz(z.data, dx=STEP_SIZE)"
   ]
  },
  {
   "cell_type": "markdown",
   "metadata": {
    "ExecuteTime": {
     "end_time": "2022-10-17T22:28:54.677517Z",
     "start_time": "2022-10-17T22:28:54.672890Z"
    }
   },
   "source": [
    "What is `compute_length` doing? Basically this:"
   ]
  },
  {
   "cell_type": "code",
   "execution_count": 16,
   "metadata": {
    "ExecuteTime": {
     "end_time": "2022-10-18T02:32:52.533324Z",
     "start_time": "2022-10-18T02:32:52.529886Z"
    }
   },
   "outputs": [
    {
     "data": {
      "text/plain": [
       "1.8000000000000003"
      ]
     },
     "execution_count": 16,
     "metadata": {},
     "output_type": "execute_result"
    }
   ],
   "source": [
    "np.linalg.norm([(N_POINTS - 1) * STEP_SIZE * r_x, \n",
    "                (N_POINTS - 1) * STEP_SIZE * r_y, \n",
    "                (N_POINTS - 1) * STEP_SIZE * r_z])"
   ]
  },
  {
   "cell_type": "code",
   "execution_count": 17,
   "metadata": {
    "ExecuteTime": {
     "end_time": "2022-10-18T02:32:52.538347Z",
     "start_time": "2022-10-18T02:32:52.534884Z"
    }
   },
   "outputs": [
    {
     "data": {
      "text/plain": [
       "1.8000000000000003"
      ]
     },
     "execution_count": 17,
     "metadata": {},
     "output_type": "execute_result"
    }
   ],
   "source": [
    "compute_length(0, 0, 0, r_x, r_y, r_z)"
   ]
  },
  {
   "cell_type": "markdown",
   "metadata": {
    "ExecuteTime": {
     "end_time": "2022-10-17T17:27:01.423173Z",
     "start_time": "2022-10-17T17:27:01.419197Z"
    }
   },
   "source": [
    "This should be the length of the vecto [1, 1, 1]"
   ]
  },
  {
   "cell_type": "code",
   "execution_count": 18,
   "metadata": {
    "ExecuteTime": {
     "end_time": "2022-10-18T02:32:52.542660Z",
     "start_time": "2022-10-18T02:32:52.539904Z"
    }
   },
   "outputs": [
    {
     "data": {
      "text/plain": [
       "1.7320508075688772"
      ]
     },
     "execution_count": 18,
     "metadata": {},
     "output_type": "execute_result"
    }
   ],
   "source": [
    "np.linalg.norm([1, 1, 1])"
   ]
  },
  {
   "cell_type": "markdown",
   "metadata": {},
   "source": [
    "This gets a fair bit closer. This function is just a demonstration and will be used within the loops below."
   ]
  },
  {
   "cell_type": "code",
   "execution_count": 19,
   "metadata": {
    "ExecuteTime": {
     "end_time": "2022-10-18T02:32:52.717791Z",
     "start_time": "2022-10-18T02:32:52.544208Z"
    }
   },
   "outputs": [
    {
     "data": {
      "text/plain": [
       "1.7500000000000002"
      ]
     },
     "execution_count": 19,
     "metadata": {},
     "output_type": "execute_result"
    }
   ],
   "source": [
    "compute_length_integration(0, 0, 0)"
   ]
  },
  {
   "cell_type": "markdown",
   "metadata": {},
   "source": [
    "### Loop with Computing Analytic Distance\n",
    "\n",
    "Note because we have to use `np.where` the values computed using this formula will be slightly greater than those computed with integrate since we are finding an *approximate* intersection with the unit cube."
   ]
  },
  {
   "cell_type": "code",
   "execution_count": 20,
   "metadata": {
    "ExecuteTime": {
     "end_time": "2022-10-18T02:32:52.723049Z",
     "start_time": "2022-10-18T02:32:52.719361Z"
    }
   },
   "outputs": [],
   "source": [
    "if CHECKS:\n",
    "    total = N**2 * N_z\n",
    "\n",
    "\n",
    "    ### Notes:\n",
    "    ## point in space p_x, p_y, p_z\n",
    "    ## direction of ray d_x, d_y, d_z\n",
    "\n",
    "    coord_gen = ((x, y, z) \n",
    "                   for x in ds.coords['x'].data \n",
    "                   for y in ds.coords['y'].data \n",
    "                   for z in ds.coords['z'].data)\n",
    "\n",
    "    for xs in tqdm(coord_gen, total=total):\n",
    "        p_x, p_y, p_z = xs\n",
    "        d_x = ds['d_x'].sel(x=p_x, y=p_y, z=p_z).data\n",
    "        d_y = ds['d_y'].sel(x=p_x, y=p_y, z=p_z).data\n",
    "        d_z = ds['d_z'].sel(x=p_x, y=p_y, z=p_z).data\n",
    "\n",
    "        ds['ray_length_analytic'].loc[dict(x=p_x,y=p_y,z=p_z)] = compute_length(p_x, p_y, p_z,\n",
    "                                                                                d_x, d_y, d_z)\n",
    "    "
   ]
  },
  {
   "cell_type": "markdown",
   "metadata": {},
   "source": [
    "### Loop with Distance with Integration"
   ]
  },
  {
   "cell_type": "code",
   "execution_count": 21,
   "metadata": {
    "ExecuteTime": {
     "end_time": "2022-10-18T02:32:52.729028Z",
     "start_time": "2022-10-18T02:32:52.724634Z"
    }
   },
   "outputs": [],
   "source": [
    "if CHECKS:\n",
    "    total = N**2 * N_z\n",
    "\n",
    "    coord_gen = ((x, y, z) \n",
    "                   for x in ds.coords['x'].data \n",
    "                   for y in ds.coords['y'].data \n",
    "                   for z in ds.coords['z'].data)\n",
    "\n",
    "    for xs in tqdm(coord_gen, total=total):\n",
    "        p_x, p_y, p_z = xs\n",
    "        d_x = ds['d_x'].sel(x=p_x, y=p_y, z=p_z).data\n",
    "        d_y = ds['d_y'].sel(x=p_x, y=p_y, z=p_z).data\n",
    "        d_z = ds['d_z'].sel(x=p_x, y=p_y, z=p_z).data\n",
    "\n",
    "        ray = get_ray(p_x, p_y, p_z, d_x, d_y, d_z)\n",
    "        ray_x, ray_y, ray_z = ray[...,0], ray[..., 1], ray[..., 2]\n",
    "\n",
    "        ray_x = xr.DataArray(ray_x, dims=\"step\")\n",
    "        ray_y = xr.DataArray(ray_y, dims=\"step\")\n",
    "        ray_z = xr.DataArray(ray_z, dims=\"step\")\n",
    "\n",
    "        z = ds['data_cube'].interp(x=ray_x, y=ray_y, z=ray_z, kwargs={\"fill_value\": 0})    \n",
    "        ds['ray_length_integration_loop'].loc[dict(x=p_x,y=p_y,z=p_z)] = np.trapz(z.data, dx=STEP_SIZE)\n"
   ]
  },
  {
   "cell_type": "markdown",
   "metadata": {
    "ExecuteTime": {
     "end_time": "2022-10-17T17:37:45.816757Z",
     "start_time": "2022-10-17T17:37:45.814331Z"
    }
   },
   "source": [
    "## Check our simplified first attempt\n",
    "\n",
    "This simply takes the difference of the two methods. We expect the error (from both) to show up."
   ]
  },
  {
   "cell_type": "code",
   "execution_count": 22,
   "metadata": {
    "ExecuteTime": {
     "end_time": "2022-10-18T02:32:52.732658Z",
     "start_time": "2022-10-18T02:32:52.730490Z"
    }
   },
   "outputs": [],
   "source": [
    "if CHECKS:\n",
    "    plt.hist((ds['ray_length_integration_loop'].data - ds['ray_length_analytic'].data).ravel())\n",
    "    plt.xlabel('Differences between two methods')"
   ]
  },
  {
   "cell_type": "markdown",
   "metadata": {},
   "source": [
    "I am not going to investigate this further so hopefully this is a good enough sanity check.\n",
    "\n",
    "There are several things that are going tobe slow in the above:\n",
    "\n",
    "1. Per point assignment\n",
    "2. Looping through points for ray creation, interpolation, and integration\n",
    "\n",
    "Vectorizing tries to do this all at once creating fairly large arrays, but allowin scipy to multithread the lookups required to do things quickly.\n",
    "\n",
    "# Vectorization\n",
    "\n",
    "We are going to vectorize each part adding on to the previous modification and make sure they agree with our initial attempt. Namely:\n",
    "\n",
    "1. ray creation\n",
    "2. Interpolation\n",
    "3. Integration"
   ]
  },
  {
   "cell_type": "markdown",
   "metadata": {},
   "source": [
    "## Ray creation\n",
    "\n",
    "Let $M = N^2 \\cdot N_z$. The goal is to create an array of the following dimension $N_{steps} \\times M \\times 3$."
   ]
  },
  {
   "cell_type": "code",
   "execution_count": 23,
   "metadata": {
    "ExecuteTime": {
     "end_time": "2022-10-18T02:32:52.900137Z",
     "start_time": "2022-10-18T02:32:52.734412Z"
    }
   },
   "outputs": [
    {
     "data": {
      "text/plain": [
       "(10000000, 3)"
      ]
     },
     "execution_count": 23,
     "metadata": {},
     "output_type": "execute_result"
    }
   ],
   "source": [
    "coord_mesh = np.meshgrid(x_coord, y_coord, z_coord)\n",
    "coords_arr = np.stack(coord_mesh, axis=0).reshape((3, -1)).transpose([1, 0])\n",
    "coords_arr.shape"
   ]
  },
  {
   "cell_type": "code",
   "execution_count": 24,
   "metadata": {
    "ExecuteTime": {
     "end_time": "2022-10-18T02:32:53.107392Z",
     "start_time": "2022-10-18T02:32:52.901732Z"
    }
   },
   "outputs": [
    {
     "data": {
      "text/plain": [
       "(10000000, 3)"
      ]
     },
     "execution_count": 24,
     "metadata": {},
     "output_type": "execute_result"
    }
   ],
   "source": [
    "ind_mesh = np.meshgrid(np.arange(N), np.arange(N), np.arange(N_z))\n",
    "indices_arr = np.stack(ind_mesh, axis=0).reshape((3, -1)).transpose([1, 0])\n",
    "indices_arr.shape"
   ]
  },
  {
   "cell_type": "code",
   "execution_count": 25,
   "metadata": {
    "ExecuteTime": {
     "end_time": "2022-10-18T02:32:54.661178Z",
     "start_time": "2022-10-18T02:32:53.109248Z"
    }
   },
   "outputs": [
    {
     "name": "stdout",
     "output_type": "stream",
     "text": [
      "CPU times: user 709 ms, sys: 852 ms, total: 1.56 s\n",
      "Wall time: 1.55 s\n"
     ]
    },
    {
     "data": {
      "text/plain": [
       "(19, 10000000, 3)"
      ]
     },
     "execution_count": 25,
     "metadata": {},
     "output_type": "execute_result"
    }
   ],
   "source": [
    "%%time\n",
    "\n",
    "ray_init = np.repeat(np.arange(N_POINTS)[:,None],3, axis=1).transpose([1, 0])\n",
    "ray_init = np.repeat(ray_init[None, ...], indices_arr.shape[0], axis=0).transpose([2, 0, 1])\n",
    "ray_init.shape"
   ]
  },
  {
   "cell_type": "code",
   "execution_count": 26,
   "metadata": {
    "ExecuteTime": {
     "end_time": "2022-10-18T02:33:02.443708Z",
     "start_time": "2022-10-18T02:32:54.663069Z"
    }
   },
   "outputs": [
    {
     "name": "stdout",
     "output_type": "stream",
     "text": [
      "CPU times: user 4.39 s, sys: 3.39 s, total: 7.78 s\n",
      "Wall time: 7.78 s\n"
     ]
    },
    {
     "data": {
      "text/plain": [
       "(19, 10000000, 3)"
      ]
     },
     "execution_count": 26,
     "metadata": {},
     "output_type": "execute_result"
    }
   ],
   "source": [
    "%%time\n",
    "\n",
    "ray = coords_arr + STEP_SIZE * ray_init * unit_ray\n",
    "ray.shape"
   ]
  },
  {
   "cell_type": "code",
   "execution_count": 27,
   "metadata": {
    "ExecuteTime": {
     "end_time": "2022-10-18T02:33:09.054921Z",
     "start_time": "2022-10-18T02:33:02.445234Z"
    }
   },
   "outputs": [
    {
     "name": "stdout",
     "output_type": "stream",
     "text": [
      "CPU times: user 5.56 s, sys: 1.05 s, total: 6.61 s\n",
      "Wall time: 6.61 s\n"
     ]
    }
   ],
   "source": [
    "%%time\n",
    "\n",
    "ray_dim_x, ray_dim_y, ray_dim_z = ray.shape\n",
    "ray_squeezed = ray.reshape((ray_dim_x *ray_dim_y, ray_dim_z))"
   ]
  },
  {
   "cell_type": "markdown",
   "metadata": {},
   "source": [
    "# Interpolation"
   ]
  },
  {
   "cell_type": "code",
   "execution_count": 28,
   "metadata": {
    "ExecuteTime": {
     "end_time": "2022-10-18T02:33:09.064010Z",
     "start_time": "2022-10-18T02:33:09.060856Z"
    }
   },
   "outputs": [],
   "source": [
    "from scipy.interpolate import RegularGridInterpolator\n",
    "interp = RegularGridInterpolator((ds.coords['x'].data,\n",
    "                                  ds.coords['y'].data,\n",
    "                                  ds.coords['z'].data),\n",
    "                                  ds['data_cube'].data, bounds_error=False, fill_value=0)"
   ]
  },
  {
   "cell_type": "code",
   "execution_count": 29,
   "metadata": {
    "ExecuteTime": {
     "end_time": "2022-10-18T02:34:52.490745Z",
     "start_time": "2022-10-18T02:33:09.065598Z"
    }
   },
   "outputs": [
    {
     "name": "stdout",
     "output_type": "stream",
     "text": [
      "CPU times: user 1min 9s, sys: 33.7 s, total: 1min 43s\n",
      "Wall time: 1min 43s\n"
     ]
    }
   ],
   "source": [
    "%%time\n",
    "\n",
    "out = interp((ray_squeezed[:,0], \n",
    "              ray_squeezed[:,1], \n",
    "              ray_squeezed[:,2]))"
   ]
  },
  {
   "cell_type": "code",
   "execution_count": 30,
   "metadata": {
    "ExecuteTime": {
     "end_time": "2022-10-18T02:34:52.496595Z",
     "start_time": "2022-10-18T02:34:52.492554Z"
    }
   },
   "outputs": [
    {
     "name": "stdout",
     "output_type": "stream",
     "text": [
      "CPU times: user 17 µs, sys: 0 ns, total: 17 µs\n",
      "Wall time: 19.8 µs\n"
     ]
    },
    {
     "data": {
      "text/plain": [
       "(19, 10000000)"
      ]
     },
     "execution_count": 30,
     "metadata": {},
     "output_type": "execute_result"
    }
   ],
   "source": [
    "%%time\n",
    "\n",
    "out = out.reshape((ray_dim_x, ray_dim_y))\n",
    "out.shape"
   ]
  },
  {
   "cell_type": "markdown",
   "metadata": {
    "ExecuteTime": {
     "end_time": "2022-10-17T20:11:04.419010Z",
     "start_time": "2022-10-17T20:11:04.416563Z"
    }
   },
   "source": [
    "# Integration"
   ]
  },
  {
   "cell_type": "code",
   "execution_count": 31,
   "metadata": {
    "ExecuteTime": {
     "end_time": "2022-10-18T02:34:53.781924Z",
     "start_time": "2022-10-18T02:34:52.498344Z"
    }
   },
   "outputs": [
    {
     "data": {
      "text/plain": [
       "(10000000,)"
      ]
     },
     "execution_count": 31,
     "metadata": {},
     "output_type": "execute_result"
    }
   ],
   "source": [
    "z = np.trapz(out, dx=STEP_SIZE, axis=0)\n",
    "z.shape"
   ]
  },
  {
   "cell_type": "code",
   "execution_count": 32,
   "metadata": {
    "ExecuteTime": {
     "end_time": "2022-10-18T02:34:53.787474Z",
     "start_time": "2022-10-18T02:34:53.783209Z"
    }
   },
   "outputs": [],
   "source": [
    "ray_length_integration_vec = xr.DataArray(data=z.reshape((N, N, N_z)),\n",
    "                                          dims=dims,\n",
    "                                          coords=coords_dict)\n",
    "ds['ray_length_integration_vec'] = ray_length_integration_vec"
   ]
  },
  {
   "cell_type": "code",
   "execution_count": 33,
   "metadata": {
    "ExecuteTime": {
     "end_time": "2022-10-18T02:34:53.791198Z",
     "start_time": "2022-10-18T02:34:53.789022Z"
    }
   },
   "outputs": [],
   "source": [
    "if CHECKS:\n",
    "    plt.hist((ds['ray_length_integration_loop'].data - ds['ray_length_integration_vec'].data).ravel())\n",
    "    plt.xlabel('Differences between two methods')"
   ]
  },
  {
   "cell_type": "markdown",
   "metadata": {},
   "source": [
    "# Concluding Thoughts"
   ]
  },
  {
   "cell_type": "markdown",
   "metadata": {
    "ExecuteTime": {
     "end_time": "2022-10-17T22:59:59.734390Z",
     "start_time": "2022-10-17T22:59:59.730101Z"
    }
   },
   "source": [
    "The memory issue quickly becomes problematic because we are storing these large rays in memory *simultaneously*. Dask could provide some reprieve however we would need to make sure that dask could access the data cube(s) while chunking the rays (likely copying the data cube or passing the scipy interpolation object). This seems easily doable with what is done above: https://examples.dask.org/xarray.html#Custom-workflows-and-automatic-parallelization\n",
    "\n",
    "Vectorization is huge speedup. Looking at the cells, I am seeing about ~20 times, though it could be a lot more. I was able to do the ray integration of $N=1,000$ and `STEP_SIZE=.1` (20 points on the ray) in a few minutes.\n",
    "\n",
    "When I kicked up $N = 10,000$ and `STEP_SIZE =0.01`, I ran out of memory. I was too impatient for $N = 1,000$ and the same step size (definitely petering on the edge of memory availability).\n",
    "\n",
    "Although the unit ray vector here represents a simplified unit vector varying along the topography, the vectorization of the routines would remain very similar. "
   ]
  }
 ],
 "metadata": {
  "kernelspec": {
   "display_name": "xarray",
   "language": "python",
   "name": "xarray"
  },
  "language_info": {
   "codemirror_mode": {
    "name": "ipython",
    "version": 3
   },
   "file_extension": ".py",
   "mimetype": "text/x-python",
   "name": "python",
   "nbconvert_exporter": "python",
   "pygments_lexer": "ipython3",
   "version": "3.10.6"
  }
 },
 "nbformat": 4,
 "nbformat_minor": 4
}
